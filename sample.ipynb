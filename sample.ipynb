{
 "cells": [
  {
   "cell_type": "code",
   "execution_count": 4,
   "metadata": {},
   "outputs": [
    {
     "name": "stdout",
     "output_type": "stream",
     "text": [
      "^C\n",
      "Collecting git+https://github.com/Tsora1216/TakayaSora\n",
      "  Cloning https://github.com/Tsora1216/TakayaSora to c:\\users\\irsl27\\appdata\\local\\temp\\pip-req-build-j7d84in2\n",
      "  Resolved https://github.com/Tsora1216/TakayaSora to commit a067b5dca38e11cacbbfa23a856720affc5633ee\n",
      "  Preparing metadata (setup.py): started\n",
      "  Preparing metadata (setup.py): finished with status 'done'\n"
     ]
    },
    {
     "name": "stderr",
     "output_type": "stream",
     "text": [
      "  Running command git clone --filter=blob:none --quiet https://github.com/Tsora1216/TakayaSora 'C:\\Users\\IRSL27\\AppData\\Local\\Temp\\pip-req-build-j7d84in2'\n"
     ]
    },
    {
     "name": "stdout",
     "output_type": "stream",
     "text": [
      "Collecting git+https://github.com/Tsora1216/TakayaSora\n",
      "  Cloning https://github.com/Tsora1216/TakayaSora to c:\\users\\irsl27\\appdata\\local\\temp\\pip-req-build-pzd9w7f8\n",
      "  Resolved https://github.com/Tsora1216/TakayaSora to commit a067b5dca38e11cacbbfa23a856720affc5633ee\n",
      "  Preparing metadata (setup.py): started\n",
      "  Preparing metadata (setup.py): finished with status 'done'\n"
     ]
    },
    {
     "name": "stderr",
     "output_type": "stream",
     "text": [
      "  Running command git clone --filter=blob:none --quiet https://github.com/Tsora1216/TakayaSora 'C:\\Users\\IRSL27\\AppData\\Local\\Temp\\pip-req-build-pzd9w7f8'\n"
     ]
    }
   ],
   "source": [
    "!pip install git+https://github.com/Tsora1216/TakayaSora\n",
    "!pip install -U git+https://github.com/Tsora1216/TakayaSora"
   ]
  },
  {
   "cell_type": "code",
   "execution_count": 5,
   "metadata": {},
   "outputs": [
    {
     "name": "stdout",
     "output_type": "stream",
     "text": [
      "Extracting EDF parameters from c:\\Users\\IRSL27\\Documents\\GitHub\\edf4csv\\Sample.edf...\n",
      "EDF file detected\n",
      "Setting channel info structure...\n",
      "Creating raw.info structure...\n",
      "Extracting EDF parameters from c:\\Users\\IRSL27\\Documents\\GitHub\\edf4csv\\sample\\SampleA.edf...\n",
      "EDF file detected\n",
      "Setting channel info structure...\n",
      "Creating raw.info structure...\n",
      "Extracting EDF parameters from c:\\Users\\IRSL27\\Documents\\GitHub\\edf4csv\\sample\\SampleB.edf...\n",
      "EDF file detected\n",
      "Setting channel info structure...\n",
      "Creating raw.info structure...\n",
      "Extracting EDF parameters from c:\\Users\\IRSL27\\Documents\\GitHub\\edf4csv\\sample\\SampleC.edf...\n",
      "EDF file detected\n",
      "Setting channel info structure...\n",
      "Creating raw.info structure...\n",
      "Extracting EDF parameters from c:\\Users\\IRSL27\\Documents\\GitHub\\edf4csv\\sample\\SampleD.edf...\n",
      "EDF file detected\n",
      "Setting channel info structure...\n",
      "Creating raw.info structure...\n",
      "Extracting EDF parameters from c:\\Users\\IRSL27\\Documents\\GitHub\\edf4csv\\sample\\SampleE.edf...\n",
      "EDF file detected\n",
      "Setting channel info structure...\n",
      "Creating raw.info structure...\n"
     ]
    }
   ],
   "source": [
    "import TakayaSora as sora\n",
    "\n",
    "sora.edf4csv(\"Sample.edf\")\n",
    "sora.edf4csv_folder(\"./sample/\")\n"
   ]
  }
 ],
 "metadata": {
  "kernelspec": {
   "display_name": "Python 3",
   "language": "python",
   "name": "python3"
  },
  "language_info": {
   "codemirror_mode": {
    "name": "ipython",
    "version": 3
   },
   "file_extension": ".py",
   "mimetype": "text/x-python",
   "name": "python",
   "nbconvert_exporter": "python",
   "pygments_lexer": "ipython3",
   "version": "3.7.9"
  },
  "orig_nbformat": 4
 },
 "nbformat": 4,
 "nbformat_minor": 2
}
