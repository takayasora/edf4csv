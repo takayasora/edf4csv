{
 "cells": [
  {
   "cell_type": "code",
   "execution_count": 4,
   "metadata": {},
   "outputs": [
    {
     "name": "stdout",
     "output_type": "stream",
     "text": [
      "Collecting git+https://github.com/Tsora1216/TakayaSora\n",
      "  Cloning https://github.com/Tsora1216/TakayaSora to c:\\users\\irsl27\\appdata\\local\\temp\\pip-req-build-hqzg1vra\n",
      "  Resolved https://github.com/Tsora1216/TakayaSora to commit 495a9a67cc553a15738bfa82e5563f0876741a0b\n",
      "  Preparing metadata (setup.py): started\n",
      "  Preparing metadata (setup.py): finished with status 'done'\n"
     ]
    },
    {
     "name": "stderr",
     "output_type": "stream",
     "text": [
      "  Running command git clone --filter=blob:none --quiet https://github.com/Tsora1216/TakayaSora 'C:\\Users\\IRSL27\\AppData\\Local\\Temp\\pip-req-build-hqzg1vra'\n"
     ]
    },
    {
     "name": "stdout",
     "output_type": "stream",
     "text": [
      "Collecting git+https://github.com/Tsora1216/TakayaSora\n",
      "  Cloning https://github.com/Tsora1216/TakayaSora to c:\\users\\irsl27\\appdata\\local\\temp\\pip-req-build-kz4sz5av\n",
      "  Resolved https://github.com/Tsora1216/TakayaSora to commit 495a9a67cc553a15738bfa82e5563f0876741a0b\n",
      "  Preparing metadata (setup.py): started\n",
      "  Preparing metadata (setup.py): finished with status 'done'\n"
     ]
    },
    {
     "name": "stderr",
     "output_type": "stream",
     "text": [
      "  Running command git clone --filter=blob:none --quiet https://github.com/Tsora1216/TakayaSora 'C:\\Users\\IRSL27\\AppData\\Local\\Temp\\pip-req-build-kz4sz5av'\n"
     ]
    }
   ],
   "source": [
    "!pip install git+https://github.com/Tsora1216/TakayaSora\n",
    "!pip install -U git+https://github.com/Tsora1216/TakayaSora"
   ]
  },
  {
   "cell_type": "code",
   "execution_count": null,
   "metadata": {},
   "outputs": [],
   "source": [
    "import TakayaSora as sora\n",
    "\n",
    "sora.edf4csv(\"Sample.edf\")\n",
    "sora.edf4csv_folder(\"./sample/\")\n"
   ]
  }
 ],
 "metadata": {
  "kernelspec": {
   "display_name": "Python 3",
   "language": "python",
   "name": "python3"
  },
  "language_info": {
   "codemirror_mode": {
    "name": "ipython",
    "version": 3
   },
   "file_extension": ".py",
   "mimetype": "text/x-python",
   "name": "python",
   "nbconvert_exporter": "python",
   "pygments_lexer": "ipython3",
   "version": "3.7.9"
  },
  "orig_nbformat": 4
 },
 "nbformat": 4,
 "nbformat_minor": 2
}
