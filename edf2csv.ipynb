{
  "cells": [
    {
      "attachments": {},
      "cell_type": "markdown",
      "metadata": {},
      "source": [
        "# EDFファイルをCSVファイルに変換するプログラム\n",
        "具体的なテーマとしては、睡眠ポリグラフ（polysomnography: PSG）から睡眠の深さ（睡眠段階）を予測することをテーマとします。\n",
        "\n",
        "PSGは睡眠の深さを判定するのに利用され、特に睡眠時呼吸障害の診断と治療効果の判定に利用されています。睡眠段階の判定は専門の臨床技師が行いますが、技師の教育コストは高く、また判定には大変な労力を必要とするので、検査需要に追いついていないという指摘があります。\n",
        "睡眠という身近なテーマではありますが、あまり馴染みのない、分析しがいのあるデータになっていると簡単にデータを見ただけでも分かります。\n",
        "\n",
        "また、利用データとしては、脳波をとるのは難しく期間を鑑みても実現性が低いと考えたため、下記のデータを利用します。<br>\n",
        "医学研究データリポジトリであるPhysioNetで、オープンデータとして公開されているSleep-EDF Database Expanded（sleep-cassette サブセット）を利用します<br>\n",
        "(https://www.physionet.org/content/sleep-edfx/1.0.0/)   \n",
        "\n",
        "内部のデータ構造はEDFファイルとして保存されており、分析の際にCSVファイルにしたほうが、Pythonでの前処理に適した形になるため、このプログラムを開発した。\n",
        "\n",
        "下記にプログラムの使用方法を明記する。\n",
        "\n",
        "## 一つのEDFファイルをCSVファイルに変換\n",
        "この関数の使用方法としては、ファイルパスを一つのパラメータとして渡してあげる形で使用してください。\n",
        "```Python\n",
        "edf4csv(\"Sample.edf\")\n",
        "```\n",
        "\n",
        "渡したEDFファイルパスと同じ階層、同じファイル名でCSVファイルが生成される<br>\n",
        "実行後は下記のような出力となる。<br>\n",
        "![](https://gyazo.com/66b3de15c5b304b7200fc9df8fa4f30c.png)\n",
        "\n",
        "## 複数のEDFファイルをCSVファイルに変換\n",
        "この関数の使用方法としては、フォルダパスを一つのパラメータとして渡してあげる形で使用してください。\n",
        "```Python\n",
        "edf4csv_folder(\"./sample/\")\n",
        "```\n",
        "\n",
        "渡したEDFフォルダパスと同じ階層、同じファイル名でCSVファイルが生成される<br>\n",
        "実行後は下記のような出力となる。<br>\n",
        "![](https://gyazo.com/d732841a7977587deb5da48776e99cf4.png)\n",
        "\n"
      ]
    },
    {
      "cell_type": "code",
      "execution_count": 2,
      "metadata": {},
      "outputs": [
        {
          "name": "stdout",
          "output_type": "stream",
          "text": [
            "Defaulting to user installation because normal site-packages is not writeable\n",
            "Collecting mne\n",
            "  Downloading mne-1.4.2-py3-none-any.whl (7.7 MB)\n",
            "                                              0.0/7.7 MB ? eta -:--:--\n",
            "     -                                        0.2/7.7 MB 12.2 MB/s eta 0:00:01\n",
            "     ---                                      0.6/7.7 MB 9.2 MB/s eta 0:00:01\n",
            "     ----                                     0.9/7.7 MB 8.5 MB/s eta 0:00:01\n",
            "     ------                                   1.3/7.7 MB 8.3 MB/s eta 0:00:01\n",
            "     --------                                 1.7/7.7 MB 8.2 MB/s eta 0:00:01\n",
            "     ----------                               2.0/7.7 MB 8.1 MB/s eta 0:00:01\n",
            "     ------------                             2.4/7.7 MB 8.1 MB/s eta 0:00:01\n",
            "     -------------                            2.5/7.7 MB 8.1 MB/s eta 0:00:01\n",
            "     ----------------                         3.1/7.7 MB 8.0 MB/s eta 0:00:01\n",
            "     ------------------                       3.5/7.7 MB 8.0 MB/s eta 0:00:01\n",
            "     --------------------                     3.9/7.7 MB 7.9 MB/s eta 0:00:01\n",
            "     ----------------------                   4.2/7.7 MB 7.9 MB/s eta 0:00:01\n",
            "     -----------------------                  4.6/7.7 MB 7.9 MB/s eta 0:00:01\n",
            "     -------------------------                4.9/7.7 MB 7.9 MB/s eta 0:00:01\n",
            "     ---------------------------              5.3/7.7 MB 7.9 MB/s eta 0:00:01\n",
            "     -----------------------------            5.7/7.7 MB 7.9 MB/s eta 0:00:01\n",
            "     -------------------------------          6.0/7.7 MB 7.9 MB/s eta 0:00:01\n",
            "     ---------------------------------        6.4/7.7 MB 7.9 MB/s eta 0:00:01\n",
            "     -----------------------------------      6.8/7.7 MB 7.9 MB/s eta 0:00:01\n",
            "     -------------------------------------    7.1/7.7 MB 7.9 MB/s eta 0:00:01\n",
            "     ---------------------------------------  7.5/7.7 MB 7.8 MB/s eta 0:00:01\n",
            "     ---------------------------------------  7.7/7.7 MB 7.9 MB/s eta 0:00:01\n",
            "     ---------------------------------------- 7.7/7.7 MB 7.5 MB/s eta 0:00:00\n",
            "Requirement already satisfied: numpy>=1.15.4 in c:\\users\\de\\appdata\\roaming\\python\\python311\\site-packages (from mne) (1.23.5)\n",
            "Requirement already satisfied: scipy>=1.6.3 in c:\\users\\de\\appdata\\roaming\\python\\python311\\site-packages (from mne) (1.10.1)\n",
            "Requirement already satisfied: matplotlib>=3.4.0 in c:\\users\\de\\appdata\\roaming\\python\\python311\\site-packages (from mne) (3.7.1)\n",
            "Requirement already satisfied: tqdm in c:\\users\\de\\appdata\\roaming\\python\\python311\\site-packages (from mne) (4.65.0)\n",
            "Collecting pooch>=1.5 (from mne)\n",
            "  Downloading pooch-1.7.0-py3-none-any.whl (60 kB)\n",
            "                                              0.0/60.9 kB ? eta -:--:--\n",
            "     ---------------------------------------- 60.9/60.9 kB 3.2 MB/s eta 0:00:00\n",
            "Requirement already satisfied: decorator in c:\\users\\de\\appdata\\roaming\\python\\python311\\site-packages (from mne) (5.1.1)\n",
            "Requirement already satisfied: packaging in c:\\users\\de\\appdata\\roaming\\python\\python311\\site-packages (from mne) (23.0)\n",
            "Requirement already satisfied: jinja2 in c:\\users\\de\\appdata\\roaming\\python\\python311\\site-packages (from mne) (3.1.2)\n",
            "Requirement already satisfied: contourpy>=1.0.1 in c:\\users\\de\\appdata\\roaming\\python\\python311\\site-packages (from matplotlib>=3.4.0->mne) (1.0.7)\n",
            "Requirement already satisfied: cycler>=0.10 in c:\\users\\de\\appdata\\roaming\\python\\python311\\site-packages (from matplotlib>=3.4.0->mne) (0.11.0)\n",
            "Requirement already satisfied: fonttools>=4.22.0 in c:\\users\\de\\appdata\\roaming\\python\\python311\\site-packages (from matplotlib>=3.4.0->mne) (4.39.3)\n",
            "Requirement already satisfied: kiwisolver>=1.0.1 in c:\\users\\de\\appdata\\roaming\\python\\python311\\site-packages (from matplotlib>=3.4.0->mne) (1.4.4)\n",
            "Requirement already satisfied: pillow>=6.2.0 in c:\\users\\de\\appdata\\roaming\\python\\python311\\site-packages (from matplotlib>=3.4.0->mne) (9.5.0)\n",
            "Requirement already satisfied: pyparsing>=2.3.1 in c:\\users\\de\\appdata\\roaming\\python\\python311\\site-packages (from matplotlib>=3.4.0->mne) (3.0.9)\n",
            "Requirement already satisfied: python-dateutil>=2.7 in c:\\users\\de\\appdata\\roaming\\python\\python311\\site-packages (from matplotlib>=3.4.0->mne) (2.8.2)\n",
            "Requirement already satisfied: platformdirs>=2.5.0 in c:\\users\\de\\appdata\\roaming\\python\\python311\\site-packages (from pooch>=1.5->mne) (3.2.0)\n",
            "Requirement already satisfied: requests>=2.19.0 in c:\\users\\de\\appdata\\roaming\\python\\python311\\site-packages (from pooch>=1.5->mne) (2.28.2)\n",
            "Requirement already satisfied: MarkupSafe>=2.0 in c:\\users\\de\\appdata\\roaming\\python\\python311\\site-packages (from jinja2->mne) (2.1.2)\n",
            "Requirement already satisfied: colorama in c:\\users\\de\\appdata\\roaming\\python\\python311\\site-packages (from tqdm->mne) (0.4.6)\n",
            "Requirement already satisfied: six>=1.5 in c:\\users\\de\\appdata\\roaming\\python\\python311\\site-packages (from python-dateutil>=2.7->matplotlib>=3.4.0->mne) (1.16.0)\n",
            "Requirement already satisfied: charset-normalizer<4,>=2 in c:\\users\\de\\appdata\\roaming\\python\\python311\\site-packages (from requests>=2.19.0->pooch>=1.5->mne) (3.1.0)\n",
            "Requirement already satisfied: idna<4,>=2.5 in c:\\users\\de\\appdata\\roaming\\python\\python311\\site-packages (from requests>=2.19.0->pooch>=1.5->mne) (3.4)\n",
            "Requirement already satisfied: urllib3<1.27,>=1.21.1 in c:\\users\\de\\appdata\\roaming\\python\\python311\\site-packages (from requests>=2.19.0->pooch>=1.5->mne) (1.26.15)\n",
            "Requirement already satisfied: certifi>=2017.4.17 in c:\\users\\de\\appdata\\roaming\\python\\python311\\site-packages (from requests>=2.19.0->pooch>=1.5->mne) (2022.12.7)\n",
            "Installing collected packages: pooch, mne\n",
            "Successfully installed mne-1.4.2 pooch-1.7.0\n"
          ]
        }
      ],
      "source": [
        "!pip install mne\n",
        "!pip install numpy"
      ]
    },
    {
      "cell_type": "code",
      "execution_count": 3,
      "metadata": {
        "colab": {
          "base_uri": "https://localhost:8080/"
        },
        "id": "Tihqu24zmDuZ",
        "outputId": "1ce036ef-2cc7-4fd5-ee85-98696cf32919"
      },
      "outputs": [],
      "source": [
        "import numpy as np\n",
        "import mne\n",
        "import os\n",
        "\n",
        "def edf4csv(edf_filepath):\n",
        "    csv_filepath = os.path.splitext(edf_filepath)[0] + \".csv\"\n",
        "    edf = mne.io.read_raw_edf(edf_filepath)\n",
        "    header = ','.join(edf.ch_names)\n",
        "    np.savetxt(csv_filepath, edf.get_data().T, delimiter=',', header=header)\n",
        "\n",
        "def edf4csv_folder(edf_folderpath):\n",
        "    edf_files = []\n",
        "    for root, dirs, files in os.walk(edf_folderpath):\n",
        "        for file in files:\n",
        "            if file.endswith(\".edf\"):\n",
        "                edf_files.append(os.path.join(root, file))\n",
        "    for file_path in edf_files:\n",
        "        csv_filepath = os.path.splitext(file_path)[0] + \".csv\"\n",
        "        edf = mne.io.read_raw_edf(file_path)\n",
        "        header = ','.join(edf.ch_names)\n",
        "        np.savetxt(csv_filepath, edf.get_data().T, delimiter=',', header=header)\n"
      ]
    },
    {
      "cell_type": "code",
      "execution_count": 4,
      "metadata": {},
      "outputs": [
        {
          "name": "stdout",
          "output_type": "stream",
          "text": [
            "Extracting EDF parameters from c:\\Users\\DE\\Downloads\\新しいフォルダー (2)\\edf2csv-main\\Sample.edf...\n",
            "EDF file detected\n",
            "Setting channel info structure...\n",
            "Creating raw.info structure...\n"
          ]
        }
      ],
      "source": [
        "edf4csv(\"Sample.edf\")"
      ]
    },
    {
      "cell_type": "code",
      "execution_count": 5,
      "metadata": {},
      "outputs": [
        {
          "name": "stdout",
          "output_type": "stream",
          "text": [
            "Extracting EDF parameters from c:\\Users\\DE\\Downloads\\新しいフォルダー (2)\\edf2csv-main\\sample\\SampleA.edf...\n",
            "EDF file detected\n",
            "Setting channel info structure...\n",
            "Creating raw.info structure...\n",
            "Extracting EDF parameters from c:\\Users\\DE\\Downloads\\新しいフォルダー (2)\\edf2csv-main\\sample\\SampleB.edf...\n",
            "EDF file detected\n",
            "Setting channel info structure...\n",
            "Creating raw.info structure...\n",
            "Extracting EDF parameters from c:\\Users\\DE\\Downloads\\新しいフォルダー (2)\\edf2csv-main\\sample\\SampleC.edf...\n",
            "EDF file detected\n",
            "Setting channel info structure...\n",
            "Creating raw.info structure...\n",
            "Extracting EDF parameters from c:\\Users\\DE\\Downloads\\新しいフォルダー (2)\\edf2csv-main\\sample\\SampleD.edf...\n",
            "EDF file detected\n",
            "Setting channel info structure...\n",
            "Creating raw.info structure...\n",
            "Extracting EDF parameters from c:\\Users\\DE\\Downloads\\新しいフォルダー (2)\\edf2csv-main\\sample\\SampleE.edf...\n",
            "EDF file detected\n",
            "Setting channel info structure...\n",
            "Creating raw.info structure...\n"
          ]
        }
      ],
      "source": [
        "edf4csv_folder(\"./sample/\")"
      ]
    }
  ],
  "metadata": {
    "colab": {
      "authorship_tag": "ABX9TyM59Gna8QhesQy8NfdPEA0K",
      "include_colab_link": true,
      "name": "edf2csv.ipynb",
      "provenance": []
    },
    "kernelspec": {
      "display_name": "Python 3",
      "name": "python3"
    },
    "language_info": {
      "codemirror_mode": {
        "name": "ipython",
        "version": 3
      },
      "file_extension": ".py",
      "mimetype": "text/x-python",
      "name": "python",
      "nbconvert_exporter": "python",
      "pygments_lexer": "ipython3",
      "version": "3.11.3"
    }
  },
  "nbformat": 4,
  "nbformat_minor": 0
}
